{
  "nbformat": 4,
  "nbformat_minor": 0,
  "metadata": {
    "colab": {
      "name": "Pilas.ipynb",
      "provenance": [],
      "collapsed_sections": [],
      "authorship_tag": "ABX9TyOZCLLr16rW3WrlcR32y9aG",
      "include_colab_link": true
    },
    "kernelspec": {
      "name": "python3",
      "display_name": "Python 3"
    },
    "language_info": {
      "name": "python"
    }
  },
  "cells": [
    {
      "cell_type": "markdown",
      "metadata": {
        "id": "view-in-github",
        "colab_type": "text"
      },
      "source": [
        "<a href=\"https://colab.research.google.com/github/JhonEJ/EstructuraDeDatos/blob/main/Pilas.ipynb\" target=\"_parent\"><img src=\"https://colab.research.google.com/assets/colab-badge.svg\" alt=\"Open In Colab\"/></a>"
      ]
    },
    {
      "cell_type": "code",
      "metadata": {
        "id": "8K_dAAGEM4S0"
      },
      "source": [
        "class StackADT:\n",
        "    def __init__(self):\n",
        "      self.__data = list()\n",
        "#regresa si la pila esta vacia\n",
        "    def is_empty(self):\n",
        "        return len( self.__data) == 0\n",
        "    def get_length(self):\n",
        "        return len(self.__data)\n",
        "\n",
        "    def pop(self):\n",
        "        if self.is_empty():\n",
        "          print(\"Fila vacia no se puede sacar nada\")\n",
        "        else:\n",
        "            return self.__data.pop()\n",
        "\n",
        "\n",
        "    def peek(self):\n",
        "        if self.is_empty():\n",
        "          print(\"Fila vacia no se puede sacar nada\")\n",
        "        else:\n",
        "          return self.__data[-1]\n",
        "\n",
        "    def push(self, value ):\n",
        "        self.__data.append(value  )\n",
        "\n",
        "    def to_string(self  ):\n",
        "        for item in self.__data[::-1]:\n",
        "            print(f\"| {item} |\")"
      ],
      "execution_count": null,
      "outputs": []
    },
    {
      "cell_type": "code",
      "metadata": {
        "colab": {
          "base_uri": "https://localhost:8080/"
        },
        "id": "cjeb45lPQhDf",
        "outputId": "0ff821ef-5407-438b-ee03-aafa0da1cc83"
      },
      "source": [
        "pila = StackADT()\n",
        "print(\"Esta vacia? =\", pila.is_empty()  )\n",
        "print(\"# elementos:\", pila.get_length() )\n",
        "pila.push(10)\n",
        "print(\"Esta vacia? =\", pila.is_empty()  )\n",
        "print(\"# elementos:\", pila.get_length() )\n",
        "pila.push(20)\n",
        "pila.push(30)\n",
        "pila.push(40)\n",
        "pila.to_string()\n",
        "print(pila.pop())\n",
        "print(pila.peek())\n",
        "pila.to_string()"
      ],
      "execution_count": null,
      "outputs": [
        {
          "output_type": "stream",
          "name": "stdout",
          "text": [
            "Esta vacia? = True\n",
            "# elementos: 0\n",
            "Esta vacia? = False\n",
            "# elementos: 1\n",
            "| 40 |\n",
            "| 30 |\n",
            "| 20 |\n",
            "| 10 |\n",
            "40\n",
            "30\n",
            "| 30 |\n",
            "| 20 |\n",
            "| 10 |\n"
          ]
        }
      ]
    },
    {
      "cell_type": "code",
      "metadata": {
        "colab": {
          "base_uri": "https://localhost:8080/"
        },
        "id": "1dwpWT_Z0xbg",
        "outputId": "06cd8e93-ff24-4270-e12a-598b486e9360"
      },
      "source": [
        "!cat prog.txt"
      ],
      "execution_count": null,
      "outputs": [
        {
          "output_type": "stream",
          "name": "stdout",
          "text": [
            "#include <stdio.h>\r\n",
            "int main()\r\n",
            "{\r\n",
            "    int num, count, sum = 0;\r\n",
            "\r\n",
            "    printf(\"Enter a positive integer: \");\r\n",
            "    scanf(\"%d\", &num);\r\n",
            "\r\n",
            "    // for loop terminates when num is less than count\r\n",
            "    for(count = 1; count <= num; ++count)\r\n",
            "    {\r\n",
            "        sum += count;\r\n",
            "    }\r\n",
            "\r\n",
            "    printf(\"Sum = %d\", sum);\r\n",
            "\r\n",
            "    return 0;\r\n",
            "}"
          ]
        }
      ]
    },
    {
      "cell_type": "code",
      "metadata": {
        "colab": {
          "base_uri": "https://localhost:8080/"
        },
        "id": "984iTq-L0zR7",
        "outputId": "f8a3596c-4c6b-4b64-e026-e41f9f2d9fa5"
      },
      "source": [
        "entrada = open ('prog.txt', 'rt')\n",
        "codigo = entrada.read()\n",
        "\n",
        "pilaControl = StackADT()\n",
        "pilaControl.push('#') #caracter de pila vacia\n",
        "\n",
        "for letra in codigo:\n",
        "  #print(f\"-->{letra} <--\"\")\n",
        "  if letra == '{':\n",
        "    pilaControl.push(\"{\")\n",
        "  elif letra == '}':\n",
        "    basura = pilaControl.pop()\n",
        "  else: \n",
        "    pass\n",
        "\n",
        "\n",
        "#NOTA: Este codigo aun no contempla desbalanceo\n",
        "\n",
        "if pilaControl.peek() == '#':\n",
        "  print(\"El codigo proporcianado esta correctamente balanceado\")\n",
        "else: \n",
        "  print(\"El codigo no esta balanceado en llaves {} de manera correcta\")"
      ],
      "execution_count": null,
      "outputs": [
        {
          "output_type": "stream",
          "name": "stdout",
          "text": [
            "El codigo proporcianado esta correctamente balanceado\n"
          ]
        }
      ]
    },
    {
      "cell_type": "code",
      "metadata": {
        "id": "ArGp-VP_HJ1l"
      },
      "source": [
        "class balanceo_llaves:\n",
        "    def __init__ ( self , ruta_archivo ):\n",
        "        self.read_data( ruta_archivo )\n",
        "    \n",
        "    def read_data( self , entrada ):\n",
        "        self.entrada = open( nombre , 'rt')\n",
        "        self.codigo = self.entrada.read()\n",
        "\n",
        "    def revisar_codigo( self ):\n",
        "        \n",
        "        self.pilaControl = StackADT()\n",
        "        self.pilaControl.push(\"#\") #caracter de pila vacia\n",
        "\n",
        "        for letra in self.codigo:\n",
        "            \n",
        "            if self.pilaControl.get_length() != 0:\n",
        "\n",
        "                if letra == '{': \n",
        "                    self.pilaControl.push('{')\n",
        "                elif letra == '(': \n",
        "                    self.pilaControl.push('(')\n",
        "                elif letra == '}': \n",
        "                    self.pilaControl.pop()\n",
        "                elif letra == ')': \n",
        "                    self.pilaControl.pop()\n",
        "                else:\n",
        "                    pass\n",
        "\n",
        "            else:\n",
        "                break\n",
        "            \n",
        "        if self.pilaControl.peek() == '#':\n",
        "            print(\"\\nEl codigo proporcionado está correctamente balanceado.\\n\")\n",
        "        else:\n",
        "            print(\"\\nEl codigo no esta balanceado en llaves o parentesis\\n\")"
      ],
      "execution_count": null,
      "outputs": []
    },
    {
      "cell_type": "code",
      "metadata": {
        "colab": {
          "base_uri": "https://localhost:8080/"
        },
        "id": "ioHDaYqZHYL_",
        "outputId": "d88b53a5-f0a6-42d6-b299-1bc273d41028"
      },
      "source": [
        "nombre = input(\"Introduce el nombre del archivo para usar el programa:      \")\n",
        "ejemplo = balanceo_llaves( nombre )\n",
        "ejemplo.revisar_codigo()"
      ],
      "execution_count": null,
      "outputs": [
        {
          "output_type": "stream",
          "name": "stdout",
          "text": [
            "Introduce el nombre del archivo para usar el programa:      prog.txt\n",
            "Fila vacia no se puede sacar nada\n",
            "\n",
            "El codigo no esta balanceado en llaves o parentesis\n",
            "\n"
          ]
        }
      ]
    },
    {
      "cell_type": "code",
      "metadata": {
        "colab": {
          "base_uri": "https://localhost:8080/"
        },
        "id": "8c5zYt65Izne",
        "outputId": "3800d45f-ec7b-4351-ca9c-280343302d95"
      },
      "source": [
        "!cat prog.txt"
      ],
      "execution_count": null,
      "outputs": [
        {
          "output_type": "stream",
          "name": "stdout",
          "text": [
            "#include <stdio.h>\r\n",
            "\r\n",
            "\r\n",
            "int main(){\r\n",
            "\t\r\n",
            "\tfloat matriz[10][10];\r\n",
            "\tint m,n,i,j;\r\n",
            "\tprintf(\"\\nProgama para hace una matriz\");\r\n",
            "\tprintf(\"\\n�Cuantas filas tendra tu matriz?: \");\r\n",
            "\tscanf(\"%i\",&m);\r\n",
            "\tprintf(\"\\n�Cuantas columnas tendra tu matriz?: \");\r\n",
            "\tscanf(\"%i\",&n);\r\n",
            "\t\r\n",
            "\tfor(i=1; i<=m; i++){\r\n",
            "\t\tfor(j=1; j<=n; j++){\r\n",
            "\t\t\t\r\n",
            "\t\t\tprintf(\"\\nDigite el valor en la posicion [%i][%i]: \",i,j);\r\n",
            "\t\t\tscanf(\"%f\",&matriz[i][j]);\r\n",
            "\t\t}\r\n",
            "\t}\r\n",
            ")\r\n",
            "\tprintf(\"\\nLa matriz es: \");\r\n",
            "\t\r\n",
            "\tfor(i=1; i<=m; i++){\r\n",
            "\t\tprintf(\"\\n\");\r\n",
            "\t\t\r\n",
            "\t\tfor(j=1; j<=n; j++){\r\n",
            "\t\t\t\r\n",
            "\t\t\tprintf(\"\\t[%.2f]\",matriz[i][j]);\r\n",
            "\t\t\t\r\n",
            "\t\t\t\r\n",
            "\t\t}\r\n",
            "\t\t\r\n",
            "\t}  \r\n",
            "\t\r\n",
            "\t\r\n",
            "}\r\n"
          ]
        }
      ]
    },
    {
      "cell_type": "code",
      "metadata": {
        "id": "fNVhrQLItuJ4"
      },
      "source": [
        "class BoundedPriorityQueue:\n",
        "  def _init_ (self, prioridad):\n",
        "    self.data =[Queue() for x in range(prioridad) ]\n",
        "    self.size = 0 \n",
        "  \n",
        "  def is_empty(self):\n",
        "    return self.size == 0\n",
        "\n",
        "  def length(self):\n",
        "    return self.size\n",
        "  \n",
        "  def enqueue(self, prioridad, elem):\n",
        "    if prioridad < len(self.data) and prioridad >= 0:\n",
        "      self.data[prioridad].enqueue(elem)\n",
        "      self.size += 1\n",
        "  \n",
        "  def dequeue(self):\n",
        "    if not self.is_empty():\n",
        "      for prioridad in self.data:\n",
        "        if not prioridad.is_empty():\n",
        "          self.size -= 1\n",
        "          return prioridad.dequeue()\n",
        "  \n",
        "  def to_string(self):\n",
        "    for prioridad in range(len(self.data)):\n",
        "      print(f\"Prioridad {prioridad} --> {self.data[prioridad].to_string()}\")"
      ],
      "execution_count": null,
      "outputs": []
    }
  ]
}