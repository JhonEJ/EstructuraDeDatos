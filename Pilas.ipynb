{
  "nbformat": 4,
  "nbformat_minor": 0,
  "metadata": {
    "colab": {
      "name": "Pilas.ipynb",
      "provenance": [],
      "collapsed_sections": [],
      "authorship_tag": "ABX9TyP9cL8d1t9TCopQfVJnOLne",
      "include_colab_link": true
    },
    "kernelspec": {
      "name": "python3",
      "display_name": "Python 3"
    },
    "language_info": {
      "name": "python"
    }
  },
  "cells": [
    {
      "cell_type": "markdown",
      "metadata": {
        "id": "view-in-github",
        "colab_type": "text"
      },
      "source": [
        "<a href=\"https://colab.research.google.com/github/JhonEJ/EstructuraDeDatos/blob/main/Pilas.ipynb\" target=\"_parent\"><img src=\"https://colab.research.google.com/assets/colab-badge.svg\" alt=\"Open In Colab\"/></a>"
      ]
    },
    {
      "cell_type": "code",
      "metadata": {
        "id": "8K_dAAGEM4S0"
      },
      "source": [
        "class StackADT:\n",
        "    def __init__(self):\n",
        "      self.__data = list()\n",
        "#regresa si la pila esta vacia\n",
        "    def is_empty(self):\n",
        "        return len( self.__data) == 0\n",
        "    def get_length(self):\n",
        "        return len(self.__data)\n",
        "\n",
        "    def pop(self):\n",
        "        if self.is_empty():\n",
        "          print(\"Fila vacia no se puede sacar nada\")\n",
        "        else:\n",
        "            return self.__data.pop()\n",
        "\n",
        "\n",
        "    def peek(self):\n",
        "        if self.is_empty():\n",
        "          print(\"Fila vacia no se puede sacar nada\")\n",
        "        else:\n",
        "          return self.__data[-1]\n",
        "\n",
        "    def push(self, value ):\n",
        "        self.__data.append(value  )\n",
        "\n",
        "    def to_string(self  ):\n",
        "        for item in self.__data[::-1]:\n",
        "            print(f\"| {item} |\")"
      ],
      "execution_count": 4,
      "outputs": []
    },
    {
      "cell_type": "code",
      "metadata": {
        "colab": {
          "base_uri": "https://localhost:8080/"
        },
        "id": "cjeb45lPQhDf",
        "outputId": "0ff821ef-5407-438b-ee03-aafa0da1cc83"
      },
      "source": [
        "pila = StackADT()\n",
        "print(\"Esta vacia? =\", pila.is_empty()  )\n",
        "print(\"# elementos:\", pila.get_length() )\n",
        "pila.push(10)\n",
        "print(\"Esta vacia? =\", pila.is_empty()  )\n",
        "print(\"# elementos:\", pila.get_length() )\n",
        "pila.push(20)\n",
        "pila.push(30)\n",
        "pila.push(40)\n",
        "pila.to_string()\n",
        "print(pila.pop())\n",
        "print(pila.peek())\n",
        "pila.to_string()"
      ],
      "execution_count": 5,
      "outputs": [
        {
          "output_type": "stream",
          "name": "stdout",
          "text": [
            "Esta vacia? = True\n",
            "# elementos: 0\n",
            "Esta vacia? = False\n",
            "# elementos: 1\n",
            "| 40 |\n",
            "| 30 |\n",
            "| 20 |\n",
            "| 10 |\n",
            "40\n",
            "30\n",
            "| 30 |\n",
            "| 20 |\n",
            "| 10 |\n"
          ]
        }
      ]
    },
    {
      "cell_type": "code",
      "metadata": {
        "colab": {
          "base_uri": "https://localhost:8080/"
        },
        "id": "1dwpWT_Z0xbg",
        "outputId": "06cd8e93-ff24-4270-e12a-598b486e9360"
      },
      "source": [
        "!cat prog.txt"
      ],
      "execution_count": 2,
      "outputs": [
        {
          "output_type": "stream",
          "name": "stdout",
          "text": [
            "#include <stdio.h>\r\n",
            "int main()\r\n",
            "{\r\n",
            "    int num, count, sum = 0;\r\n",
            "\r\n",
            "    printf(\"Enter a positive integer: \");\r\n",
            "    scanf(\"%d\", &num);\r\n",
            "\r\n",
            "    // for loop terminates when num is less than count\r\n",
            "    for(count = 1; count <= num; ++count)\r\n",
            "    {\r\n",
            "        sum += count;\r\n",
            "    }\r\n",
            "\r\n",
            "    printf(\"Sum = %d\", sum);\r\n",
            "\r\n",
            "    return 0;\r\n",
            "}"
          ]
        }
      ]
    },
    {
      "cell_type": "code",
      "metadata": {
        "colab": {
          "base_uri": "https://localhost:8080/"
        },
        "id": "984iTq-L0zR7",
        "outputId": "5db3bf8f-ae0d-4756-b43e-0c3e56eb85be"
      },
      "source": [
        "entrada = open ('prog.txt', 'rt')\n",
        "codigo = entrada.read()\n",
        "\n",
        "pilaControl = StackADT()\n",
        "pilaControl.push('#') #caracter de pila vacia\n",
        "\n",
        "for letra in codigo:\n",
        "  #print(f\"-->{letra} <--\"\")\n",
        "  if letra == '{':\n",
        "    pilaControl.push(\"{\")\n",
        "  elif letra == '}':\n",
        "    basura = pilaControl.pop()\n",
        "  else: \n",
        "    pass\n",
        "\n",
        "\n",
        "#NOTA: Este codigo aun no contempla desbalanceo\n",
        "\n",
        "if pilaControl.peek() == '#':\n",
        "  print(\"El codigo proporcianado esta correctamente balanceado\")\n",
        "else: \n",
        "  print(\"El codigo no esta balanceado en llaves {} de manera correcta\")"
      ],
      "execution_count": 13,
      "outputs": [
        {
          "output_type": "stream",
          "name": "stdout",
          "text": [
            "El codigo proporcianado esta correctamente balanceado\n"
          ]
        }
      ]
    }
  ]
}