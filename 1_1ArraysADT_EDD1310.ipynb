{
  "nbformat": 4,
  "nbformat_minor": 0,
  "metadata": {
    "colab": {
      "name": "1.1ArraysADT_EDD1310.ipynb",
      "provenance": [],
      "collapsed_sections": [],
      "include_colab_link": true
    },
    "kernelspec": {
      "name": "python3",
      "display_name": "Python 3"
    },
    "language_info": {
      "name": "python"
    }
  },
  "cells": [
    {
      "cell_type": "markdown",
      "metadata": {
        "id": "view-in-github",
        "colab_type": "text"
      },
      "source": [
        "<a href=\"https://colab.research.google.com/github/JhonEJ/EstructuraDeDatos/blob/main/1_1ArraysADT_EDD1310.ipynb\" target=\"_parent\"><img src=\"https://colab.research.google.com/assets/colab-badge.svg\" alt=\"Open In Colab\"/></a>"
      ]
    },
    {
      "cell_type": "code",
      "metadata": {
        "colab": {
          "base_uri": "https://localhost:8080/"
        },
        "id": "_3SYESkCgtoF",
        "outputId": "5949340b-34d6-4b28-ce71-5d71747961e3"
      },
      "source": [
        "class Array:\n",
        "    def __init__(self , tam ):\n",
        "        self.__tamanio = tam\n",
        "        self.__data = [ 0 for x in range(self.__tamanio) ]\n",
        "\n",
        "    def to_string( self ):\n",
        "        info = \"\"\n",
        "        for dato in self.__data:\n",
        "            info = info + str(dato) +\"|\"\n",
        "        return info\n",
        "\n",
        "    def get_item ( self , index ):\n",
        "        return self.__data[index]\n",
        "    \n",
        "    def get_length( self ):\n",
        "        return len( self.__data)\n",
        "    \n",
        "    def set_item( self , dato , index):\n",
        "        #hace falta revisar limites\n",
        "        if index >= 0 and index < self.get_length():\n",
        "            self.__data[index] = dato\n",
        "        else:\n",
        "            print(\"Error: indice fuera de rango\")\n",
        "    \n",
        "\n",
        "    def clear ( self , dato ):\n",
        "        self.__data = [ dato for x in range(self.__tamanio) ]\n",
        "\n",
        "ejemplo = Array(20)\n",
        "print( ejemplo.to_string() )\n",
        "print( ejemplo.get_item(2) )\n",
        "ejemplo.set_item( 45 , 2 )\n",
        "print(ejemplo.to_string() )\n",
        "ejemplo.clear( 4 )\n",
        "print( ejemplo.to_string() )"
      ],
      "execution_count": null,
      "outputs": [
        {
          "output_type": "stream",
          "name": "stdout",
          "text": [
            "0|0|0|0|0|0|0|0|0|0|0|0|0|0|0|0|0|0|0|0|\n",
            "0\n",
            "0|0|45|0|0|0|0|0|0|0|0|0|0|0|0|0|0|0|0|0|\n",
            "4|4|4|4|4|4|4|4|4|4|4|4|4|4|4|4|4|4|4|4|\n"
          ]
        }
      ]
    },
    {
      "cell_type": "code",
      "metadata": {
        "id": "FeYwkqY6hzF-"
      },
      "source": [
        "lista = [ 3 * x for x in range(10)]\n",
        "print(lista)"
      ],
      "execution_count": null,
      "outputs": []
    },
    {
      "cell_type": "code",
      "metadata": {
        "id": "m4R4UtqkoJcX"
      },
      "source": [
        "archivo = open(\"junio.dat\",\"rt\",encoding=\"latin-1\")\n",
        "print(archivo.read)"
      ],
      "execution_count": null,
      "outputs": []
    },
    {
      "cell_type": "code",
      "metadata": {
        "id": "jcWgyY6CoLCm",
        "colab": {
          "base_uri": "https://localhost:8080/",
          "height": 132
        },
        "outputId": "e926400d-eb6f-40e4-bd0e-86c2b5eb8f08"
      },
      "source": [
        "\n",
        "class Trabajador:\n",
        "  def__init__(self,nt,nom.he,sb,ai):\n",
        "    self.__numero_trabajador=nt\n",
        "    self.nombre = nom\n",
        "    self.horas_Extras=he\n",
        "    self.sueldo_base = sb\n",
        "    self.anio_Ingreso = ai\n",
        "    #asi para todos los atributos\n",
        "List=[] \n",
        "\n",
        "def readFile():\n",
        "    if(len(list) <= 0):\n",
        "        with open('/content/junio.dat', 'r') as f:\n",
        "            d = f.readlines()\n",
        "            d.pop(0) #eliminar encabezados\n",
        "            for i in d:\n",
        "                k = i.rstrip().split(\",\")      \n",
        "                list.append(users(int(k[0]),k[1] + \" \" + k[2] + \" \" + k[3],int(k[4]),int(k[5]),int(k[6])))\n",
        "\n",
        "  #aqui van todos los metodos de acceso\n",
        " def HorasExtrasTrabajador():\n",
        "   for item in list:\n",
        "    costoHoraExtra = 500\n",
        "    constoHoraUser = item.horasExtras * costoHoraExtra \n",
        "    print(\"El ccobro por horas exrtras es: \" + item.nombre + \" es de: $\" + str(constoHoraUser))\n",
        " \n",
        "\n",
        "def PrestacionAntiguedad():\n",
        "    anioActual = int(datetime.datetime.now().date().strftime(\"%Y\"))\n",
        "    for item in list:\n",
        "        aniosUser = anioActual - item.anioIngreso\n",
        "        if(aniosUser > 0):\n",
        "            sueldoXAnioUser = ((aniosUser * 0.03) * 100) + item.sueldobase\n",
        "            print(\"El trabajador: \" + item.nombre + \" tiene \" + str(aniosUser) + \" años de antiguedad, por lo tanto su sueldo total es:$ \" + str(sueldoXAnioUser))\n",
        "            \n",
        "def MayorAntiguedad():\n",
        "        userMayorAntiguedad = users(0, \"\", 0, 0, 0)\n",
        "        for row in list:\n",
        "            if(userMayorAntiguedad.numeroTrabajador == 0):\n",
        "                userMayorAntiguedad = row\n",
        "            elif (userMayorAntiguedad.anioIngreso > row.anioIngreso):\n",
        "                userMayorAntiguedad = row\n",
        "                print(\"El empleado con mayor años trabajando es: \" + userMayorAntiguedad.nombre)\n",
        "                \n",
        "def MenorAntiguedad():\n",
        "        userMenorAntiguedad = users(0, \"\", 0, 0, 0)\n",
        "        for row in list:\n",
        "            if(userMenorAntiguedad.numeroTrabajador == 0):\n",
        "                userMenorAntiguedad = row\n",
        "            elif (userMenorAntiguedad.anioIngreso < row.anioIngreso):\n",
        "                userMenorAntiguedad = row\n",
        "                print(\"El empleado con menor años trabajando es: \" + userMenorAntiguedad.nombre)\n",
        "\n",
        "  #metodos de uso gral --> metodos que hacen calculos "
      ],
      "execution_count": null,
      "outputs": [
        {
          "output_type": "error",
          "ename": "SyntaxError",
          "evalue": "ignored",
          "traceback": [
            "\u001b[0;36m  File \u001b[0;32m\"<ipython-input-8-656a71d7f368>\"\u001b[0;36m, line \u001b[0;32m1\u001b[0m\n\u001b[0;31m    impot datetime\u001b[0m\n\u001b[0m                 ^\u001b[0m\n\u001b[0;31mSyntaxError\u001b[0m\u001b[0;31m:\u001b[0m invalid syntax\n"
          ]
        }
      ]
    },
    {
      "cell_type": "code",
      "metadata": {
        "id": "eDijyPGsqai9"
      },
      "source": [
        "class Nominas:\n",
        "  def__init__(self, ruta_archivo):\n",
        "    #abrir el archivo y terminar el numero de empleados\n",
        "    self.__data = Array ( num_emp )\n",
        "\n",
        "  def calcular_sueldos(def):\n",
        "    #iterar sobre el Array y hacer el calculo de sueldos\n",
        "    self.__data= Array (sueldo)\n",
        "\n",
        "  def buscar_mas_antiguo(self):\n",
        "    #iterar y buscara en el array el de mayor antiguedad\n",
        "    \n",
        "\n",
        "  def buscar_menos_antiguedad(self):\n",
        "    #iterar y buscara en el array el de menor antiguedad\n",
        "\n"
      ],
      "execution_count": null,
      "outputs": []
    }
  ]
}