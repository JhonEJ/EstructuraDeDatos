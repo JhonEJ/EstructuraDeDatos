{
  "nbformat": 4,
  "nbformat_minor": 0,
  "metadata": {
    "colab": {
      "name": "1.1ArraysADT_EDD1310.ipynb",
      "provenance": [],
      "collapsed_sections": [],
      "include_colab_link": true
    },
    "kernelspec": {
      "name": "python3",
      "display_name": "Python 3"
    },
    "language_info": {
      "name": "python"
    }
  },
  "cells": [
    {
      "cell_type": "markdown",
      "metadata": {
        "id": "view-in-github",
        "colab_type": "text"
      },
      "source": [
        "<a href=\"https://colab.research.google.com/github/JhonEJ/EstructuraDeDatos/blob/main/1_1ArraysADT_EDD1310.ipynb\" target=\"_parent\"><img src=\"https://colab.research.google.com/assets/colab-badge.svg\" alt=\"Open In Colab\"/></a>"
      ]
    },
    {
      "cell_type": "code",
      "metadata": {
        "colab": {
          "base_uri": "https://localhost:8080/"
        },
        "id": "_3SYESkCgtoF",
        "outputId": "5949340b-34d6-4b28-ce71-5d71747961e3"
      },
      "source": [
        "class Array:\n",
        "    def __init__(self , tam ):\n",
        "        self.__tamanio = tam\n",
        "        self.__data = [ 0 for x in range(self.__tamanio) ]\n",
        "\n",
        "    def to_string( self ):\n",
        "        info = \"\"\n",
        "        for dato in self.__data:\n",
        "            info = info + str(dato) +\"|\"\n",
        "        return info\n",
        "\n",
        "    def get_item ( self , index ):\n",
        "        return self.__data[index]\n",
        "    \n",
        "    def get_length( self ):\n",
        "        return len( self.__data)\n",
        "    \n",
        "    def set_item( self , dato , index):\n",
        "        #hace falta revisar limites\n",
        "        if index >= 0 and index < self.get_length():\n",
        "            self.__data[index] = dato\n",
        "        else:\n",
        "            print(\"Error: indice fuera de rango\")\n",
        "    \n",
        "\n",
        "    def clear ( self , dato ):\n",
        "        self.__data = [ dato for x in range(self.__tamanio) ]\n",
        "\n",
        "ejemplo = Array(20)\n",
        "print( ejemplo.to_string() )\n",
        "print( ejemplo.get_item(2) )\n",
        "ejemplo.set_item( 45 , 2 )\n",
        "print(ejemplo.to_string() )\n",
        "ejemplo.clear( 4 )\n",
        "print( ejemplo.to_string() )"
      ],
      "execution_count": null,
      "outputs": [
        {
          "output_type": "stream",
          "name": "stdout",
          "text": [
            "0|0|0|0|0|0|0|0|0|0|0|0|0|0|0|0|0|0|0|0|\n",
            "0\n",
            "0|0|45|0|0|0|0|0|0|0|0|0|0|0|0|0|0|0|0|0|\n",
            "4|4|4|4|4|4|4|4|4|4|4|4|4|4|4|4|4|4|4|4|\n"
          ]
        }
      ]
    },
    {
      "cell_type": "code",
      "metadata": {
        "id": "FeYwkqY6hzF-"
      },
      "source": [
        "lista = [ 3 * x for x in range(10)]\n",
        "print(lista)"
      ],
      "execution_count": null,
      "outputs": []
    },
    {
      "cell_type": "code",
      "metadata": {
        "id": "m4R4UtqkoJcX"
      },
      "source": [
        "archivo = open(\"junio.dat\",\"rt\",encoding=\"latin-1\")\n",
        "print(archivo.read)"
      ],
      "execution_count": null,
      "outputs": []
    },
    {
      "cell_type": "code",
      "metadata": {
        "id": "jcWgyY6CoLCm",
        "colab": {
          "base_uri": "https://localhost:8080/",
          "height": 132
        },
        "outputId": "eb1de08c-7a92-4aa6-9003-85d567867555"
      },
      "source": [
        "\n",
        "class Trabajador:\n",
        "  def__init__(self, nt , nom, pat, mat, he, sb, ai):\n",
        "    self.__numero_trabajador=nt\n",
        "    self.__nombre = nom\n",
        "    self.__paterno= pat\n",
        "    self.__materno= mat\n",
        "    self.__horas_Extras=he\n",
        "    self.__sueldo_base = sb\n",
        "    self.__anio_Ingreso = ai\n",
        "    #asi para todos los atributos\n",
        "\n",
        "  #aqui van todos los metodos de acceso\n",
        "  def set_numero_trabajador(self,nt):\n",
        "    self.__numero_trabajador=nt\n",
        "  def get_numero_trabajador(self):\n",
        "    return self.__numero_trabajado\n",
        "\n",
        "  def set_nombre(self,nom):\n",
        "    self.__nombre=nom\n",
        "  def get_nombre(self):\n",
        "    return self.__nombre\n",
        "\n",
        "  def set_paterno(self,pat) :\n",
        "    self.__paterno=pat\n",
        "  def get_paterno(self):\n",
        "    return self.__paterno\n",
        "\n",
        "  def set_materno(self,mat):\n",
        "    self.__materno=mat\n",
        "  def get_materno(self):\n",
        "    return self.__materno\n",
        "\n",
        "  def set_horas_Extras(self,he):\n",
        "    self.__horas_Extras=he\n",
        "  def get_horas_Extras(self):\n",
        "    return self.__horas_Extras\n",
        "\n",
        "  def set_sueldo_base (self,sb):\n",
        "    self.__sueldo_base=sb\n",
        "  def get_sueldo_base(self):\n",
        "    return self.__sueldo_base\n",
        "\n",
        "  def set_anio_Ingreso(self,ai):\n",
        "    self.__anio_Ingreso=ai\n",
        "  def get_anio_Ingreso(self):\n",
        "    return self.__anio_Ingreso\n",
        "\n",
        "  #metodos de uso gral --> metodos que hacen calculos \n",
        "\n",
        "    def calcular_sueldo_mensual(self):\n",
        "    anios = 2021 - self.get_anio_de_ingreso()\n",
        "    sueldo = self.get_sueldo_base()\n",
        "    #agregar horas extra\n",
        "    sueldo += self.get_horas_extras() * 256.5\n",
        "    #agregar prestacion\n",
        "    sueldo = sueldo + (sueldo * anios * 0.03 ) \n",
        "    return sueldo\n",
        "\n",
        "  #def to_string(self):\n",
        "  #  return \"Nombre: \" + self.__nombre + str(self.calcular_sueldo_mensual())\n",
        "\n",
        "  def to_string(self):\n",
        "    return \"El trabajador: \" + self.__nombre + \" \" + self.__apellido_paterno + \" \" + self.__apellido_materno + \" tiene \" + str(self.calcular_antiguedad()) + \" años de antiguedad y su sueldo mensual es: \" + str(self.calcular_sueldo_mensual()) \n",
        "\n",
        "  def calcular_antiguedad(self):\n",
        "    return 2021 - self.get_anio_de_ingreso()\n",
        "\n",
        "  def identificador(self):\n",
        "    return \"El trabajador con mas antiguedad es: \" + self.__nombre + \" \" + self.__apellido_paterno + \" \" + self.__apellido_materno + \" y tiene \" + str(self.calcular_antiguedad()) + \" años.\"\n",
        "\n",
        "  def identificador2(self):\n",
        "    return \"El trabajador con menos antiguedad es: \" + self.__nombre + \" \" + self.__apellido_paterno + \" \" + self.__apellido_materno + \" y tiene \" + str(self.calcular_antiguedad()) + \" años.\""
      ],
      "execution_count": null,
      "outputs": [
        {
          "output_type": "error",
          "ename": "SyntaxError",
          "evalue": "ignored",
          "traceback": [
            "\u001b[0;36m  File \u001b[0;32m\"<ipython-input-1-e256b00eeb54>\"\u001b[0;36m, line \u001b[0;32m3\u001b[0m\n\u001b[0;31m    def__init__(self, nt , nom, pat, mat, he, sb, ai):\u001b[0m\n\u001b[0m                                                      ^\u001b[0m\n\u001b[0;31mSyntaxError\u001b[0m\u001b[0;31m:\u001b[0m invalid syntax\n"
          ]
        }
      ]
    },
    {
      "cell_type": "code",
      "metadata": {
        "id": "eDijyPGsqai9",
        "colab": {
          "base_uri": "https://localhost:8080/",
          "height": 363
        },
        "outputId": "f118bf1d-cabd-4d71-d5ae-a35634f0d2b1"
      },
      "source": [
        "\n",
        "class NominaADT:\n",
        "  def __init__(self, ruta_archivo):\n",
        "    #abrir archvio y determinar el numero de empleados --> num_emp \n",
        "    archivo = open(ruta_archivo,'rt',encoding='latin-1')\n",
        "    empleados = archivo.readlines()\n",
        "    del empleados[0]\n",
        "    for index in range(len(empleados)):\n",
        "      empleados[index] = empleados[index].strip().split(',')\n",
        "    self.__data= Array(len(empleados))\n",
        "    cont = 0\n",
        "    for emp in empleados:\n",
        "      tmp = Trabajador( int(emp[0]) , emp[1] , emp[2] , emp[3] , int(emp[4]) , int(emp[5]), int(emp[6]) )\n",
        "      self.__data.set_item( tmp, cont )\n",
        "      cont += 1\n",
        "\n",
        "  def buscar_mas_antiguo(self):\n",
        "    mayor = Trabajador(2345,'CARLOS','PEREZ','CASTILLO',0,9850,2017)\n",
        "    menor = Trabajador(2345,'CARLOS','PEREZ','CASTILLO',0,9850,2017)\n",
        "    for index in range(self.__data.get_length()):\n",
        "      if mayor.calcular_antiguedad() < menor.calcular_antiguedad():\n",
        "        mayor = menor\n",
        "        menor = self.__data.get_item(index)\n",
        "      else:\n",
        "        menor = self.__data.get_item(index)\n",
        "    print(mayor.identificador())\n",
        "\n",
        "  def buscar_menos_antiguo(self):\n",
        "    mayor = Trabajador(2345,'CARLOS','PEREZ','CASTILLO',0,9850,2017)\n",
        "    menor = Trabajador(2345,'CARLOS','PEREZ','CASTILLO',0,9850,2017)\n",
        "    for index in range(self.__data.get_length()):\n",
        "      if mayor.calcular_antiguedad() < menor.calcular_antiguedad():\n",
        "        menor = mayor\n",
        "        mayor = self.__data.get_item(index)\n",
        "      else:\n",
        "        mayor = self.__data.get_item(index)\n",
        "    print(menor.identificador2())\n",
        "\n",
        "  def calcular_sueldos(self):\n",
        "    for index in range(self.__data.get_length()):\n",
        "      print(self.__data.get_item(index).to_string())\n",
        "\n",
        "\n",
        "\n",
        "ejemplo = NominaADT('junio.dat')\n",
        "ejemplo.calcular_sueldos()\n",
        "\n",
        "print(\"*-*-*-*-*-*-*-*-*-*-*-*-*-*-*-*--*-*-*-*-*-*-*-*-*-*-*-*-*-*-*-*-*-*-*-*-*-*-\")\n",
        "ejemplo.buscar_mas_antiguo()\n",
        "\n",
        "ejemplo.buscar_menos_antiguo()"
      ],
      "execution_count": null,
      "outputs": [
        {
          "output_type": "error",
          "ename": "NameError",
          "evalue": "ignored",
          "traceback": [
            "\u001b[0;31m---------------------------------------------------------------------------\u001b[0m",
            "\u001b[0;31mNameError\u001b[0m                                 Traceback (most recent call last)",
            "\u001b[0;32m<ipython-input-10-ad899e79fc18>\u001b[0m in \u001b[0;36m<module>\u001b[0;34m()\u001b[0m\n\u001b[1;32m     43\u001b[0m \u001b[0;34m\u001b[0m\u001b[0m\n\u001b[1;32m     44\u001b[0m \u001b[0;34m\u001b[0m\u001b[0m\n\u001b[0;32m---> 45\u001b[0;31m \u001b[0mejemplo\u001b[0m \u001b[0;34m=\u001b[0m \u001b[0mNominaADT\u001b[0m\u001b[0;34m(\u001b[0m\u001b[0;34m'junio.dat'\u001b[0m\u001b[0;34m)\u001b[0m\u001b[0;34m\u001b[0m\u001b[0;34m\u001b[0m\u001b[0m\n\u001b[0m\u001b[1;32m     46\u001b[0m \u001b[0mejemplo\u001b[0m\u001b[0;34m.\u001b[0m\u001b[0mcalcular_sueldos\u001b[0m\u001b[0;34m(\u001b[0m\u001b[0;34m)\u001b[0m\u001b[0;34m\u001b[0m\u001b[0;34m\u001b[0m\u001b[0m\n\u001b[1;32m     47\u001b[0m \u001b[0;34m\u001b[0m\u001b[0m\n",
            "\u001b[0;32m<ipython-input-10-ad899e79fc18>\u001b[0m in \u001b[0;36m__init__\u001b[0;34m(self, ruta_archivo)\u001b[0m\n\u001b[1;32m      8\u001b[0m     \u001b[0;32mfor\u001b[0m \u001b[0mindex\u001b[0m \u001b[0;32min\u001b[0m \u001b[0mrange\u001b[0m\u001b[0;34m(\u001b[0m\u001b[0mlen\u001b[0m\u001b[0;34m(\u001b[0m\u001b[0mempleados\u001b[0m\u001b[0;34m)\u001b[0m\u001b[0;34m)\u001b[0m\u001b[0;34m:\u001b[0m\u001b[0;34m\u001b[0m\u001b[0;34m\u001b[0m\u001b[0m\n\u001b[1;32m      9\u001b[0m       \u001b[0mempleados\u001b[0m\u001b[0;34m[\u001b[0m\u001b[0mindex\u001b[0m\u001b[0;34m]\u001b[0m \u001b[0;34m=\u001b[0m \u001b[0mempleados\u001b[0m\u001b[0;34m[\u001b[0m\u001b[0mindex\u001b[0m\u001b[0;34m]\u001b[0m\u001b[0;34m.\u001b[0m\u001b[0mstrip\u001b[0m\u001b[0;34m(\u001b[0m\u001b[0;34m)\u001b[0m\u001b[0;34m.\u001b[0m\u001b[0msplit\u001b[0m\u001b[0;34m(\u001b[0m\u001b[0;34m','\u001b[0m\u001b[0;34m)\u001b[0m\u001b[0;34m\u001b[0m\u001b[0;34m\u001b[0m\u001b[0m\n\u001b[0;32m---> 10\u001b[0;31m     \u001b[0mself\u001b[0m\u001b[0;34m.\u001b[0m\u001b[0m__data\u001b[0m\u001b[0;34m=\u001b[0m \u001b[0mArray\u001b[0m\u001b[0;34m(\u001b[0m\u001b[0mlen\u001b[0m\u001b[0;34m(\u001b[0m\u001b[0mempleados\u001b[0m\u001b[0;34m)\u001b[0m\u001b[0;34m)\u001b[0m\u001b[0;34m\u001b[0m\u001b[0;34m\u001b[0m\u001b[0m\n\u001b[0m\u001b[1;32m     11\u001b[0m     \u001b[0mcont\u001b[0m \u001b[0;34m=\u001b[0m \u001b[0;36m0\u001b[0m\u001b[0;34m\u001b[0m\u001b[0;34m\u001b[0m\u001b[0m\n\u001b[1;32m     12\u001b[0m     \u001b[0;32mfor\u001b[0m \u001b[0memp\u001b[0m \u001b[0;32min\u001b[0m \u001b[0mempleados\u001b[0m\u001b[0;34m:\u001b[0m\u001b[0;34m\u001b[0m\u001b[0;34m\u001b[0m\u001b[0m\n",
            "\u001b[0;31mNameError\u001b[0m: name 'Array' is not defined"
          ]
        }
      ]
    },
    {
      "cell_type": "code",
      "metadata": {
        "id": "gqimXYean6nF"
      },
      "source": [
        "class Array2DADT:\n",
        "  def __init__(self, ren, col):\n",
        "    self.__pollo= [ [ 0 for y in range(col)] for x in range(ren)]\n",
        "    \n",
        "  def clear(self, dato):\n",
        "    self.__pollo = [ [ dato for y in range(self.get_col_size()) ] for x in range(self.get_row_size()) ]\n",
        "  \n",
        "  def get_row_size(self):\n",
        "    return len(self.__pollo)\n",
        "  \n",
        "  def get_col_size(self):\n",
        "    return len( self.__pollo[0])\n",
        "\n",
        "  def set_item(self, ren, col, dato):\n",
        "    self.__pollo[ren][col ]=dato\n",
        "  \n",
        "  def get_item(self,ren,col):\n",
        "    return self.__pollo [ren][col]\n",
        "\n",
        "  def to_string(self):\n",
        "    cadena=\"\"\n",
        "    for renglon in self.__pollo:\n",
        "      cadena += \"|\"\n",
        "      for dato in renglon:\n",
        "        cadena +=  str(dato)+\" | \" \n",
        "      cadena += \"\\n\"\n",
        "    return cadena\n"
      ],
      "execution_count": null,
      "outputs": []
    },
    {
      "cell_type": "code",
      "metadata": {
        "colab": {
          "base_uri": "https://localhost:8080/"
        },
        "id": "e9cvS2tHpqNO",
        "outputId": "80e4c415-b8fa-4830-db44-59a95c944755"
      },
      "source": [
        "a2d = Array2DADT(3,6)\n",
        "print(f\"Ren: {a2d.get_row_size()}\")\n",
        "print(f\"Col:{a2d.get_col_size()}\")\n",
        "print(a2d.to_string())\n",
        "#print(\"\")\n",
        "a2d.clear(\"M\")\n",
        "print(a2d.to_string())\n",
        "\n",
        "a2d.set_item(2,3,'p')\n",
        "print(a2d.to_string())\n",
        "print(a2d.get_item(2,3))"
      ],
      "execution_count": null,
      "outputs": [
        {
          "output_type": "stream",
          "name": "stdout",
          "text": [
            "Ren: 3\n",
            "Col:6\n",
            "|0 | 0 | 0 | 0 | 0 | 0 | \n",
            "|0 | 0 | 0 | 0 | 0 | 0 | \n",
            "|0 | 0 | 0 | 0 | 0 | 0 | \n",
            "\n",
            "|M | M | M | M | M | M | \n",
            "|M | M | M | M | M | M | \n",
            "|M | M | M | M | M | M | \n",
            "\n",
            "|M | M | M | M | M | M | \n",
            "|M | M | M | M | M | M | \n",
            "|M | M | M | p | M | M | \n",
            "\n",
            "p\n"
          ]
        }
      ]
    },
    {
      "cell_type": "code",
      "metadata": {
        "id": "fl0GjfFD-E_u"
      },
      "source": [
        "class JuegoDeLaVida:\n",
        "    def __init__( self , ruta_archivo ):\n",
        "        self.rens = None\n",
        "        self.cols = None\n",
        "        self.tablero = None\n",
        "        self.generaciones = None\n",
        "        self.read_game_data( ruta_archivo )\n",
        "\n",
        "    def read_game_data( self, archivo ):\n",
        "        archivo = open(archivo , 'rt')\n",
        "        lineas = archivo.readlines()\n",
        "        for index in range(len(lineas)):\n",
        "            lineas[index] = lineas[index].strip()\n",
        "\n",
        "        self.rens = int( lineas[0] )\n",
        "        self.cols = int( lineas[1] )\n",
        "        self.tablero = Array2DADT(self.rens , self.cols )\n",
        "        r = 0\n",
        "        c = 0\n",
        "        #print(lineas)\n",
        "        for index in range( 2 ,  2 + self.rens , 1 ):\n",
        "            c = 0\n",
        "            for dato in lineas[index].split(','):\n",
        "                self.tablero.set_item( r , c , int(dato) )\n",
        "                c += 1\n",
        "            r += 1\n",
        "\n",
        "        self.generaciones = int( lineas[-1] )\n",
        "\n",
        "        print(f\"Generaciones a calcular:      {self.generaciones}\\n\") \n",
        "        print(\"Generacion Inicial:      \\n\")\n",
        "        print(f\"{self.tablero.to_string()}\\n\")\n",
        "\n",
        "    def get_vecinos( self, r, c ):\n",
        "        vecinos = []\n",
        "        for ren in range(r-1, r+2, 1):\n",
        "            for col in range( c-1, c+2, 1):\n",
        "                if ren < 0 or ren >= self.tablero.get_row_size() or col < 0 or col >= self.tablero.get_col_size() or (ren==r and col==c):\n",
        "                      pass\n",
        "                else:\n",
        "                    vecinos.append((ren,col))\n",
        "        return vecinos\n",
        "\n",
        "    def get_vecinos_vivos( self , r , c ):\n",
        "        vecinos = self.get_vecinos(r , c)\n",
        "        vivos = 0 \n",
        "        for par in vecinos: \n",
        "            if self.tablero.get_item( par[0], par[1] ) == 1:\n",
        "                vivos += 1\n",
        "        return vivos\n",
        "\n",
        "    def calcular_siguiente( self ):\n",
        "        generaciones = 1\n",
        "      \n",
        "        while generaciones < self.generaciones :\n",
        "            nueva_gen = Array2DADT(self.rens , self.cols )\n",
        "            print(f\"Generación actual:      {generaciones+1}\\n\\n\")\n",
        "            for ren in range(self.rens):\n",
        "                for col in range(self.cols):\n",
        "                    estado = self.tablero.get_item(ren , col)\n",
        "                    vecinos = self.get_vecinos_vivos(ren , col)\n",
        "                    if estado == 1:\n",
        "                        if vecinos > 4 or vecinos < 1:\n",
        "                            nueva_gen.set_item(ren , col , 0)\n",
        "                        elif vecinos == 2 or vecinos == 3:\n",
        "                            nueva_gen.set_item(ren , col , 1)\n",
        "\n",
        "                    else:\n",
        "                        if vecinos == 3:\n",
        "                            nueva_gen.set_item(ren , col , 1)\n",
        "                        else:\n",
        "                            nueva_gen.set_item(ren , col , 0)\n",
        "\n",
        "            generaciones += 1\n",
        "            self.tablero = nueva_gen\n",
        "            print(self.tablero.to_string())"
      ],
      "execution_count": 14,
      "outputs": []
    },
    {
      "cell_type": "code",
      "metadata": {
        "id": "D6C5oOWc9md3"
      },
      "source": [
        "nombre = input(\"Introduce el nombre del archivo para usar el programa:      \")\n",
        "juego = JuegoDeLaVida( nombre )\n",
        "juego.get_vecinos_vivos(1 , 2)\n",
        "juego.calcular_siguiente()"
      ],
      "execution_count": null,
      "outputs": []
    },
    {
      "cell_type": "code",
      "metadata": {
        "id": "e9szotx136e6"
      },
      "source": [
        "#Los datos iniciales como lo son:\n",
        "#1.- Tamño de la poblacion (ren y cols)\n",
        "#2.- La ponlacion incial \n",
        "#3.- En numero d generacion s simular\n",
        "# estaran proporcionadas por un archivo de entrada separado por comas (csv)\n"
      ],
      "execution_count": null,
      "outputs": []
    }
  ]
}