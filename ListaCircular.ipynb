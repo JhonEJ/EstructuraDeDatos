{
  "nbformat": 4,
  "nbformat_minor": 0,
  "metadata": {
    "colab": {
      "name": "ListaCircular.ipynb",
      "provenance": [],
      "collapsed_sections": [],
      "authorship_tag": "ABX9TyNMgi5uGUfxfZ1skbCXp1O2",
      "include_colab_link": true
    },
    "kernelspec": {
      "name": "python3",
      "display_name": "Python 3"
    },
    "language_info": {
      "name": "python"
    }
  },
  "cells": [
    {
      "cell_type": "markdown",
      "metadata": {
        "id": "view-in-github",
        "colab_type": "text"
      },
      "source": [
        "<a href=\"https://colab.research.google.com/github/JhonEJ/EstructuraDeDatos/blob/main/ListaCircular.ipynb\" target=\"_parent\"><img src=\"https://colab.research.google.com/assets/colab-badge.svg\" alt=\"Open In Colab\"/></a>"
      ]
    },
    {
      "cell_type": "code",
      "metadata": {
        "id": "S-3zFj65TM6t"
      },
      "source": [
        "class Nodo:\n",
        "  def __init__(self, , siguiente = None):\n",
        "    self.data = value\n",
        "    self.next = siguiente"
      ],
      "execution_count": null,
      "outputs": []
    },
    {
      "cell_type": "code",
      "metadata": {
        "id": "YTScb3RMTXDW"
      },
      "source": [
        "class CircularList:\n",
        "  def __init__(self):\n",
        "    self.ref = None\n",
        "\n",
        "  def is_empty(self):\n",
        "    return self.ref == None\n",
        "  \n",
        "  def insert(self,value):\n",
        "    if self.is_empty():\n",
        "      self.ref = Nodo(value)\n",
        "      self.ref.next = self.ref\n",
        "    elif self.search(value):\n",
        "      print(\"El valor ingresado ya existe\")\n",
        "    else:\n",
        "      if value > self.ref.data:\n",
        "        curr_node = self.ref\n",
        "        while curr_node.next != self.ref:\n",
        "          curr_node = curr_node.next\n",
        "        self.ref = Nodo(value, curr_node.next.next)\n",
        "        curr_node.next.next = self.ref\n",
        "      else:\n",
        "        curr_node = self.ref\n",
        "        while value > curr_node.next.data:\n",
        "          curr_node = curr_node.next\n",
        "        curr_node.next = Nodo(value,curr_node.next) \n",
        "\n",
        "  def transversal(self):\n",
        "    curr_node = self.ref\n",
        "    if curr_node == self.ref and curr_node != None:\n",
        "      print(f\"| {curr_node.data} | -->\", end = \"\")\n",
        "      curr_node = curr_node.next\n",
        "    while curr_node != self.ref:\n",
        "      print(f\"| {curr_node.data} | -->\", end = \"\")\n",
        "      curr_node = curr_node.next\n",
        "    print(\"\")\n",
        "\n",
        "  def search(self,value):\n",
        "    Found = False\n",
        "    curr_node = self.ref\n",
        "    while curr_node.next.data != self.ref.data:\n",
        "      if curr_node.next.data == value:\n",
        "        Found = True\n",
        "      curr_node = curr_node.next\n",
        "    if curr_node.next.data == self.ref.data and curr_node.next.data == value:\n",
        "      Found == True\n",
        "    return Found\n",
        "\n",
        "  def remove(self,value):\n",
        "    if self.ref.next == self.ref:\n",
        "      self.ref = None\n",
        "    elif value == self.ref.data:\n",
        "      curr_node = self.ref\n",
        "      while curr_node.next != self.ref:\n",
        "        curr_node = curr_node.next\n",
        "      curr_node.next = self.ref.next\n",
        "      self.ref = curr_node\n",
        "    else:\n",
        "      curr_node = self.ref\n",
        "      while curr_node.next.data != value:\n",
        "        curr_node = curr_node.next\n",
        "      curr_node.next = curr_node.next.next"
      ],
      "execution_count": 22,
      "outputs": []
    },
    {
      "cell_type": "code",
      "metadata": {
        "colab": {
          "base_uri": "https://localhost:8080/"
        },
        "id": "fs2gRhHhTsDU",
        "outputId": "d398a1ef-c25a-4673-bde3-13c8dbef88ee"
      },
      "source": [
        "ListCir = CircularList()\n",
        "if ListCir.is_empty():\n",
        "  print(\"La lista esta vacia\")\n",
        "else:\n",
        "  print(\"La lista no esta vacia\")\n",
        "\n",
        "ListCir.insert(10)\n",
        "ListCir.transversal()\n",
        "ListCir.insert(20)\n",
        "ListCir.insert(120)\n",
        "ListCir.insert(340)\n",
        "ListCir.insert(23540)\n",
        "ListCir.insert(534543)\n",
        "ListCir.insert(3423)\n",
        "ListCir.insert(2)\n",
        "ListCir.insert(0)\n",
        "\n",
        "ListCir.transversal()\n",
        "\n",
        "\n",
        "ListCir.remove(534543)\n",
        "\n",
        "ListCir.transversal()"
      ],
      "execution_count": 23,
      "outputs": [
        {
          "output_type": "stream",
          "name": "stdout",
          "text": [
            "La lista esta vacia\n",
            "| 10 | -->\n",
            "| 534543 | -->| 0 | -->| 2 | -->| 10 | -->| 20 | -->| 120 | -->| 340 | -->| 3423 | -->| 23540 | -->\n",
            "| 23540 | -->| 0 | -->| 2 | -->| 10 | -->| 20 | -->| 120 | -->| 340 | -->| 3423 | -->\n"
          ]
        }
      ]
    }
  ]
}