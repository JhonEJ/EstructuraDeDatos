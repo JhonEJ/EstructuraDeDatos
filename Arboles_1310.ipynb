{
  "nbformat": 4,
  "nbformat_minor": 0,
  "metadata": {
    "colab": {
      "name": "Arboles_1310.ipynb",
      "provenance": [],
      "collapsed_sections": [],
      "authorship_tag": "ABX9TyPyFwh+v5Q2XHDN4p/N89/b",
      "include_colab_link": true
    },
    "kernelspec": {
      "name": "python3",
      "display_name": "Python 3"
    },
    "language_info": {
      "name": "python"
    }
  },
  "cells": [
    {
      "cell_type": "markdown",
      "metadata": {
        "id": "view-in-github",
        "colab_type": "text"
      },
      "source": [
        "<a href=\"https://colab.research.google.com/github/JhonEJ/EstructuraDeDatos/blob/main/Arboles_1310.ipynb\" target=\"_parent\"><img src=\"https://colab.research.google.com/assets/colab-badge.svg\" alt=\"Open In Colab\"/></a>"
      ]
    },
    {
      "cell_type": "code",
      "metadata": {
        "id": "dZ4AkQekCNNQ"
      },
      "source": [
        "class NodoBinario: \n",
        "  def __init__(self, value, left = None, right = None ):  \n",
        "    self.data = value\n",
        "    self.left = left\n",
        "    self.right = right \n",
        "\n",
        "class NodoTernario:\n",
        "  def __init__(self, value, left = None, center = None, rigth = None ):\n",
        "    self.data = value\n",
        "    self.left = left\n",
        "    self.center = center\n",
        "    self.rigth = rigth \n",
        "\n"
      ],
      "execution_count": 49,
      "outputs": []
    },
    {
      "cell_type": "code",
      "metadata": {
        "colab": {
          "base_uri": "https://localhost:8080/"
        },
        "id": "-BtSghdiD6cg",
        "outputId": "8417bd05-ee64-4bce-e995-3814fee72538"
      },
      "source": [
        "arbol1 = NodoBinario(\"R\",NodoBinario(\"C\"),NodoBinario(\"H\"))\n",
        "print(arbol1.right.data)\n",
        "\n",
        "arbol2 = NodoTernario(4, NodoTernario(3,NodoTernario(5,left = NodoTernario(2)),NodoTernario(5),NodoTernario(2)), None ,NodoTernario(5))\n",
        "print(arbol2.left.rigth.data)\n",
        "print(arbol2.data)\n",
        "print(arbol2.left.center.data)\n",
        "print(arbol2.left.left.left.data)\n",
        "\n",
        "print(\"----- Sin usar el left ------\")\n",
        "\n",
        "aux = arbol2\n",
        "while ( aux.left != None):\n",
        "  aux = aux.left\n",
        "print(aux.data)"
      ],
      "execution_count": 50,
      "outputs": [
        {
          "output_type": "stream",
          "name": "stdout",
          "text": [
            "H\n",
            "2\n",
            "4\n",
            "5\n",
            "2\n",
            "----- Sin usar el left ------\n",
            "2\n"
          ]
        }
      ]
    },
    {
      "cell_type": "code",
      "metadata": {
        "colab": {
          "base_uri": "https://localhost:8080/"
        },
        "id": "2IXSEYw_HHEi",
        "outputId": "f9304114-74cc-43e3-d104-b0c0753eb18e"
      },
      "source": [
        "root = NodoBinario(\"Santi\",None,NodoBinario(\"Jesus\",NodoBinario(\"Pedro\",None,NodoBinario(\" Pedro jr\"))))\n",
        "print(root.right.left.right.data)\n"
      ],
      "execution_count": 51,
      "outputs": [
        {
          "output_type": "stream",
          "name": "stdout",
          "text": [
            " Pedro jr\n"
          ]
        }
      ]
    },
    {
      "cell_type": "code",
      "metadata": {
        "id": "W5R1ng3fY_7n"
      },
      "source": [
        "class BinaryNode:\n",
        "  def __init__ (self, value, left = None, rigth = None  ):\n",
        "    self.data = value\n",
        "    self.left = left\n",
        "    self.rigth = rigth\n",
        "\n",
        "class BinarySearchTree:\n",
        "  def __init__ (self):\n",
        "    self.root = None\n",
        "\n",
        "\n",
        "  def insert (self, value ):\n",
        "    if self.root == None:\n",
        "      self.root = BinaryNode(value)\n",
        "    else: \n",
        "      self.__insert_nodo(self.root, value)\n",
        "\n",
        "\n",
        "\n",
        "  def __insert_nodo(self, nodo, value):\n",
        "    if nodo.data == value:\n",
        "      pass\n",
        "    elif value < nodo.data:\n",
        "      if nodo.left == None:\n",
        "        self.left = BinaryNode(value)\n",
        "      else:\n",
        "        self.__insert_nodo(nodo.left, value)\n",
        "    else: \n",
        "      if nodo.rigth == None:\n",
        "        nodo.rigth = BinaryNode ( value)\n",
        "      else: \n",
        "        self.__insert_nodo(nodo.rigth, value)\n",
        "\n",
        "\n",
        "  def transversal ( self, formato= \"posorden\"):\n",
        "    if formato  == \"posorde\":\n",
        "      self.recorrido_pos(self.root)\n",
        "    elif formato == \"preorden\":\n",
        "      self.recorrido_pre(self.root)\n",
        "    else: #inorden\n",
        "      self.recorrido_in(self.root)\n",
        "    print(\"\")\n",
        "    \n",
        "\n",
        "\n",
        "  def recorrido_pos(self, nodo):\n",
        "    if nodo != None:\n",
        "      self.recorrido_pos(nodo.left)\n",
        "      self.recorrido_pos(nodo.rigth)\n",
        "      print(str(nodo.data), end = \",\" )\n",
        "  \n",
        "  def recorrido_pre(self, nodo):\n",
        "    if nodo != None:\n",
        "      print(str(nodo.data), end = \",\"   )\n",
        "      self.recorrido_pre(nodo.left)\n",
        "      self.recorrido_pre(nodo.rigth)\n",
        "\n",
        "\n",
        "  def recorrido_in(self, nodo):\n",
        "    if nodo != None:\n",
        "      self.recorrido_in(nodo.left)\n",
        "      print(str(nodo.data), end = \",\"   )\n",
        "      self.recorrido_in(nodo.rigth)\n",
        "  \n",
        "\n",
        "  def search(sefl, value ):\n",
        "    if self.root == None:\n",
        "      print(\"El arbol esta vacio\")\n",
        "      return None\n",
        "    else:\n",
        "      self.__search(  self.root, value)\n",
        "\n",
        "\n",
        "  def __search(self, nodo, value ):\n",
        "    if nodo.data == None:\n",
        "      print(\"EL dato no existe\")\n",
        "      return None\n",
        "    elif nodo.data == value:\n",
        "      print(\"Encontrado\")\n",
        "      return nodo\n",
        "    elif value < nodo.data:\n",
        "      return self.__buscar( nodo.left, value)\n",
        "    else:\n",
        "      return self.__buscar( nodo.rigth, value)\n",
        "\n",
        "\n",
        "\n",
        "\n",
        "\n"
      ],
      "execution_count": 54,
      "outputs": []
    },
    {
      "cell_type": "code",
      "metadata": {
        "colab": {
          "base_uri": "https://localhost:8080/"
        },
        "id": "4BZh4poB5nmq",
        "outputId": "353403ef-5739-402b-f449-a9a1c92dd413"
      },
      "source": [
        "arbl1 = BinarySearchTree()\n",
        "arbl1.insert(10)\n",
        "arbl1.insert(15)\n",
        "arbl1.insert(45)\n",
        "arbl1.insert(34)\n",
        "arbl1.insert(60)\n",
        "\n",
        "\n",
        "arbl1.transversal(\"preorden\")\n",
        "arbl1.transversal(\"inorden\")\n",
        "arbl1.transversal(\"posorden\")"
      ],
      "execution_count": 55,
      "outputs": [
        {
          "output_type": "stream",
          "name": "stdout",
          "text": [
            "10,15,45,60,\n",
            "10,15,45,60,\n",
            "10,15,45,60,\n"
          ]
        }
      ]
    }
  ]
}