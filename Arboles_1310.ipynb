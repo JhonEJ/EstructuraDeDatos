{
  "nbformat": 4,
  "nbformat_minor": 0,
  "metadata": {
    "colab": {
      "name": "Arboles_1310.ipynb",
      "provenance": [],
      "collapsed_sections": [],
      "authorship_tag": "ABX9TyO/wVUB2CossXRqf+M7+mdB",
      "include_colab_link": true
    },
    "kernelspec": {
      "name": "python3",
      "display_name": "Python 3"
    },
    "language_info": {
      "name": "python"
    }
  },
  "cells": [
    {
      "cell_type": "markdown",
      "metadata": {
        "id": "view-in-github",
        "colab_type": "text"
      },
      "source": [
        "<a href=\"https://colab.research.google.com/github/JhonEJ/EstructuraDeDatos/blob/main/Arboles_1310.ipynb\" target=\"_parent\"><img src=\"https://colab.research.google.com/assets/colab-badge.svg\" alt=\"Open In Colab\"/></a>"
      ]
    },
    {
      "cell_type": "code",
      "metadata": {
        "id": "dZ4AkQekCNNQ"
      },
      "source": [
        "class NodoBinario: \n",
        "  def __init__(self, value, left = None, right = None ):  \n",
        "    self.data = value\n",
        "    self.left = left\n",
        "    self.right = right \n",
        "\n",
        "class NodoTernario:\n",
        "  def __init__(self, value, left = None, center = None, rigth = None ):\n",
        "    self.data = value\n",
        "    self.left = left\n",
        "    self.center = center\n",
        "    self.rigth = rigth \n",
        "\n"
      ],
      "execution_count": null,
      "outputs": []
    },
    {
      "cell_type": "code",
      "metadata": {
        "colab": {
          "base_uri": "https://localhost:8080/"
        },
        "id": "-BtSghdiD6cg",
        "outputId": "5f989bfb-e685-4929-850e-c36df85c3c3e"
      },
      "source": [
        "arbol1 = NodoBinario(\"R\",NodoBinario(\"C\"),NodoBinario(\"H\"))\n",
        "print(arbol1.right.data)\n",
        "\n",
        "arbol2 = NodoTernario(4, NodoTernario(3,NodoTernario(5,left = NodoTernario(2)),NodoTernario(5),NodoTernario(2)), None ,NodoTernario(5))\n",
        "print(arbol2.left.rigth.data)\n",
        "print(arbol2.data)\n",
        "print(arbol2.left.center.data)\n",
        "print(arbol2.left.left.left.data)\n",
        "\n",
        "print(\"----- Sin usar el left ------\")\n",
        "\n",
        "aux = arbol2\n",
        "while ( aux.left != None):\n",
        "  aux = aux.left\n",
        "print(aux.data)"
      ],
      "execution_count": null,
      "outputs": [
        {
          "output_type": "stream",
          "name": "stdout",
          "text": [
            "H\n",
            "2\n",
            "4\n",
            "5\n",
            "2\n",
            "----- Sin usar el left ------\n",
            "2\n"
          ]
        }
      ]
    },
    {
      "cell_type": "code",
      "metadata": {
        "colab": {
          "base_uri": "https://localhost:8080/"
        },
        "id": "2IXSEYw_HHEi",
        "outputId": "1f26b1a0-1094-42b7-e47d-c12da21caf25"
      },
      "source": [
        "root = NodoBinario(\"Santi\",None,NodoBinario(\"Jesus\",NodoBinario(\"Pedro\",None,NodoBinario(\" Pedro jr\"))))\n",
        "print(root.right.left.right.data)\n"
      ],
      "execution_count": null,
      "outputs": [
        {
          "output_type": "stream",
          "name": "stdout",
          "text": [
            " Pedro jr\n"
          ]
        }
      ]
    },
    {
      "cell_type": "code",
      "metadata": {
        "id": "W5R1ng3fY_7n"
      },
      "source": [
        ""
      ],
      "execution_count": null,
      "outputs": []
    }
  ]
}