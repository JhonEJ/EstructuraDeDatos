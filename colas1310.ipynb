{
  "nbformat": 4,
  "nbformat_minor": 0,
  "metadata": {
    "colab": {
      "name": "colas1310.ipynb",
      "provenance": [],
      "collapsed_sections": [],
      "authorship_tag": "ABX9TyMfgKUiCnGEJ0OA1N77zTDj",
      "include_colab_link": true
    },
    "kernelspec": {
      "name": "python3",
      "display_name": "Python 3"
    },
    "language_info": {
      "name": "python"
    }
  },
  "cells": [
    {
      "cell_type": "markdown",
      "metadata": {
        "id": "view-in-github",
        "colab_type": "text"
      },
      "source": [
        "<a href=\"https://colab.research.google.com/github/JhonEJ/EstructuraDeDatos/blob/main/colas1310.ipynb\" target=\"_parent\"><img src=\"https://colab.research.google.com/assets/colab-badge.svg\" alt=\"Open In Colab\"/></a>"
      ]
    },
    {
      "cell_type": "code",
      "metadata": {
        "id": "_-jDk_CHKlDH"
      },
      "source": [
        "class Queue:\n",
        "  def __init__(self):\n",
        "    self.data = []\n",
        "\n",
        "  def is_empty(self):\n",
        "    return len(self.data) == 0\n",
        "  \n",
        "  def length( self):\n",
        "    return len( self.data)\n",
        "  \n",
        "  def enqueue( self,value):\n",
        "    self.data.append(value)\n",
        "  \n",
        "  def dequeue( self):\n",
        "    return self.data.pop(0)\n",
        "\n",
        "  def to_string ( self):\n",
        "    for elem in self.data:\n",
        "      print(f\"| {elem} | <--\", end=\"\")\n",
        "    print(\"\")"
      ],
      "execution_count": 1,
      "outputs": []
    },
    {
      "cell_type": "code",
      "metadata": {
        "colab": {
          "base_uri": "https://localhost:8080/"
        },
        "id": "iSEfzclZNn5H",
        "outputId": "0daa27e6-78b6-4cda-b091-d84a8ff5024c"
      },
      "source": [
        "cola = Queue()\n",
        "print(\"Esta vacio?:\",cola.is_empty())\n",
        "print(\"numero de elementos = \", cola.length())\n",
        "cola.enqueue(10)\n",
        "cola.enqueue(20)\n",
        "cola.enqueue(30)\n",
        "print(\"Esta vacio?:\",cola.is_empty())\n",
        "print(\"numero de elementos = \", cola.length())\n",
        "cola.to_string()\n",
        "siguiente = cola.dequeue()\n",
        "cola.enqueue(40)\n",
        "cola.enqueue(50)\n",
        "cola.enqueue(60)\n",
        "print(\"Atendiendo a:\",siguiente)\n",
        "cola.to_string()\n",
        "\n"
      ],
      "execution_count": 2,
      "outputs": [
        {
          "output_type": "stream",
          "name": "stdout",
          "text": [
            "Esta vacio?: True\n",
            "numero de elementos =  0\n",
            "Esta vacio?: False\n",
            "numero de elementos =  3\n",
            "| 10 | <--| 20 | <--| 30 | <--\n",
            "Atendiendo a: 10\n",
            "| 20 | <--| 30 | <--| 40 | <--| 50 | <--| 60 | <--\n"
          ]
        }
      ]
    },
    {
      "cell_type": "markdown",
      "metadata": {
        "id": "aI6ctIN7DrSa"
      },
      "source": [
        "Implementacion de la cola de prioridad acotada "
      ]
    },
    {
      "cell_type": "code",
      "metadata": {
        "id": "GFpILnNtDwp0"
      },
      "source": [
        "class BoundedPriorityQueue:\n",
        "  def __init__(self, niveles):\n",
        "    self.__data = [Queue()for x in range (niveles)] #con lista de python\n",
        "    self.__size = 0\n",
        "    #Con Array\n",
        "    #self.__data = Array(niveles)\n",
        "    #self.__data.clear (Queue())\n",
        "\n",
        "  def is_empty(self):\n",
        "    return self.__size == 0\n",
        "\n",
        "  def length(self ):\n",
        "    return self.__size\n",
        "\n",
        "  def enqueue(self, prioridad, elem  ):\n",
        "    if prioridad < len(self.__data) and prioridad >= 0:\n",
        "      self.__data[ prioridad ].enqueue (elem )\n",
        "      self.__size += 1\n",
        "\n",
        "  def dequeue(self):\n",
        "    nivel = 0\n",
        "    while self.__data[nivel].is_empty() and nivel < self.length():\n",
        "      nivel += 1\n",
        "    if nivel >= self.length():\n",
        "      print(\"Cola esta vacia\")\n",
        "    else: \n",
        "      return self.__data[nivel].dequeue()\n",
        "\n",
        "  def to_string (self):\n",
        "    prioridad = 0\n",
        "    for cola in self.__data:\n",
        "      print(f\"Prioridad{prioridad} -->\", end=\"\")\n",
        "      #if not cola.is_empty():\n",
        "      cola.to_string()\n",
        "      prioridad += 1"
      ],
      "execution_count": 38,
      "outputs": []
    },
    {
      "cell_type": "markdown",
      "metadata": {
        "id": "LI5Ypg9fMpTB"
      },
      "source": [
        "Prueba de la cola con prioridad\n"
      ]
    },
    {
      "cell_type": "code",
      "metadata": {
        "colab": {
          "base_uri": "https://localhost:8080/"
        },
        "id": "K5IucP2jMrSb",
        "outputId": "0de92217-3e80-4a45-9515-bb53040363a8"
      },
      "source": [
        "salvavidas = BoundedPriorityQueue(7)\n",
        "salvavidas.enqueue(4, \"Maestre\")\n",
        "salvavidas.enqueue(2, \"Niños\")\n",
        "salvavidas.enqueue(4, \"Mecanico\")\n",
        "salvavidas.enqueue(3, \"Mujeres\")\n",
        "salvavidas.enqueue(2, \"Ancianos\")\n",
        "salvavidas.enqueue(1, \"Niñas\")\n",
        "salvavidas.enqueue(3, \"Hombres\")\n",
        "salvavidas.enqueue(4, \"vijia\")\n",
        "salvavidas.enqueue(5, \"Capitan\")\n",
        "salvavidas.enqueue(4, \"Timonel\")\n",
        "\n",
        "salvavidas.to_string()\n",
        "\n",
        "sig=salvavidas.dequeue()\n",
        "print(f\"Subiendo {sig} al bote salvavidas!!\")\n",
        "salvavidas.to_string()\n",
        "\n",
        "sig=salvavidas.dequeue()\n",
        "print(f\"Subiendo {sig} al bote salvavidas!!\")\n",
        "salvavidas.to_string()\n",
        "\n",
        "sig=salvavidas.dequeue()\n",
        "print(f\"Subiendo {sig} al bote salvavidas!!\")\n",
        "salvavidas.to_string()\n",
        "\n",
        "sig=salvavidas.dequeue()\n",
        "print(f\"Subiendo {sig} al bote salvavidas!!\")\n",
        "salvavidas.to_string()"
      ],
      "execution_count": 43,
      "outputs": [
        {
          "output_type": "stream",
          "name": "stdout",
          "text": [
            "Prioridad0 -->\n",
            "Prioridad1 -->| Niñas | <--\n",
            "Prioridad2 -->| Niños | <--| Ancianos | <--\n",
            "Prioridad3 -->| Mujeres | <--| Hombres | <--\n",
            "Prioridad4 -->| Maestre | <--| Mecanico | <--| vijia | <--| Timonel | <--\n",
            "Prioridad5 -->| Capitan | <--\n",
            "Prioridad6 -->\n",
            "Subiendo Niñas al bote salvavidas!!\n",
            "Prioridad0 -->\n",
            "Prioridad1 -->\n",
            "Prioridad2 -->| Niños | <--| Ancianos | <--\n",
            "Prioridad3 -->| Mujeres | <--| Hombres | <--\n",
            "Prioridad4 -->| Maestre | <--| Mecanico | <--| vijia | <--| Timonel | <--\n",
            "Prioridad5 -->| Capitan | <--\n",
            "Prioridad6 -->\n",
            "Subiendo Niños al bote salvavidas!!\n",
            "Prioridad0 -->\n",
            "Prioridad1 -->\n",
            "Prioridad2 -->| Ancianos | <--\n",
            "Prioridad3 -->| Mujeres | <--| Hombres | <--\n",
            "Prioridad4 -->| Maestre | <--| Mecanico | <--| vijia | <--| Timonel | <--\n",
            "Prioridad5 -->| Capitan | <--\n",
            "Prioridad6 -->\n",
            "Subiendo Ancianos al bote salvavidas!!\n",
            "Prioridad0 -->\n",
            "Prioridad1 -->\n",
            "Prioridad2 -->\n",
            "Prioridad3 -->| Mujeres | <--| Hombres | <--\n",
            "Prioridad4 -->| Maestre | <--| Mecanico | <--| vijia | <--| Timonel | <--\n",
            "Prioridad5 -->| Capitan | <--\n",
            "Prioridad6 -->\n",
            "Subiendo Mujeres al bote salvavidas!!\n",
            "Prioridad0 -->\n",
            "Prioridad1 -->\n",
            "Prioridad2 -->\n",
            "Prioridad3 -->| Hombres | <--\n",
            "Prioridad4 -->| Maestre | <--| Mecanico | <--| vijia | <--| Timonel | <--\n",
            "Prioridad5 -->| Capitan | <--\n",
            "Prioridad6 -->\n"
          ]
        }
      ]
    },
    {
      "cell_type": "code",
      "metadata": {
        "id": "ri2VsVgDR7DF"
      },
      "source": [
        "class PiorityQueue:\n",
        "  def __init__(self):\n",
        "    self.__data=[]\n",
        "    self.__size = 0\n",
        "\n",
        "  def is_empty( self):\n",
        "    return self.__size == 0\n",
        "\n",
        "  def length(self):\n",
        "    return self.__size\n",
        "\n",
        "  def enqueue(self, prioridad, elem):\n",
        "    existe = False\n",
        "    indice = 0\n",
        "    for index  in range( len(self.__data) ):\n",
        "      if self.__data[index][\"prioridad\" ] == prioridad:\n",
        "        existe = True\n",
        "        indice = index\n",
        "\n",
        "\n",
        "    if existe:\n",
        "      self.__data[indice][\"cola\"].enqueue(elem)\n",
        "    else:\n",
        "      self.__data.append({\"prioridad\":prioridad, \"cola\":Queue() })\n",
        "      self.__data[-1][\"cola\"].enqueue(elem)\n",
        "  \n",
        "  def to_string(self ):\n",
        "    for cola in self.__data:\n",
        "      cola[\"cola\"].to_string()\n",
        "      \n"
      ],
      "execution_count": 63,
      "outputs": []
    },
    {
      "cell_type": "code",
      "metadata": {
        "id": "mAVqmr_9TJ0c"
      },
      "source": [
        "#ed = {\n",
        "    \n",
        "#    {\"prioridad\": 1, \"cola\": Queue()  },\n",
        "#    {\"prioridad\": 2, \"cola\": Queue()  },\n",
        "#    {\"prioridad\": 4, \"cola\": Queue()  },\n",
        "#    {\"prioridad\": 20, \"cola\": Queue() },\n",
        "#    {\"prioridad\": 100, \"cola\": Queue()  },\n",
        "#    {\"prioridad\": 3, \"cola\": Queue()  },\n",
        "#}"
      ],
      "execution_count": 54,
      "outputs": []
    },
    {
      "cell_type": "code",
      "metadata": {
        "colab": {
          "base_uri": "https://localhost:8080/"
        },
        "id": "z0BNvYvgWfID",
        "outputId": "4e168d2c-852e-4d2e-d5f3-cbdbbba78100"
      },
      "source": [
        "cp=PiorityQueue()\n",
        "cp.enqueue(1,\"niñas\")\n",
        "cp.enqueue(2,\"niños\")\n",
        "cp.to_string()"
      ],
      "execution_count": 66,
      "outputs": [
        {
          "output_type": "stream",
          "name": "stdout",
          "text": [
            "| niñas | <--\n",
            "| niños | <--\n"
          ]
        }
      ]
    }
  ]
}