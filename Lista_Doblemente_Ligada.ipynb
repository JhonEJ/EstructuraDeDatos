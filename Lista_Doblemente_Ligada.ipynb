{
  "nbformat": 4,
  "nbformat_minor": 0,
  "metadata": {
    "colab": {
      "name": "Lista_Doblemente_Ligada.ipynb",
      "provenance": [],
      "collapsed_sections": [],
      "authorship_tag": "ABX9TyP/9SIvRFj7YtM2qMQiTvZr",
      "include_colab_link": true
    },
    "kernelspec": {
      "name": "python3",
      "display_name": "Python 3"
    },
    "language_info": {
      "name": "python"
    }
  },
  "cells": [
    {
      "cell_type": "markdown",
      "metadata": {
        "id": "view-in-github",
        "colab_type": "text"
      },
      "source": [
        "<a href=\"https://colab.research.google.com/github/JhonEJ/EstructuraDeDatos/blob/main/Lista_Doblemente_Ligada.ipynb\" target=\"_parent\"><img src=\"https://colab.research.google.com/assets/colab-badge.svg\" alt=\"Open In Colab\"/></a>"
      ]
    },
    {
      "cell_type": "code",
      "metadata": {
        "id": "bbRRylV_rfZg"
      },
      "source": [
        "class NodoDoble: \n",
        "  def __init__(self, value, siguiente = None, previo = None):\n",
        "    self.data = value\n",
        "    self.next = siguiente\n",
        "    self.prev = previo"
      ],
      "execution_count": null,
      "outputs": []
    },
    {
      "cell_type": "code",
      "metadata": {
        "colab": {
          "base_uri": "https://localhost:8080/"
        },
        "id": "ouvq5t92uWdu",
        "outputId": "37404864-cae2-4972-9342-444184957350"
      },
      "source": [
        "head = NodoDoble(10)\n",
        "tail = head \n",
        "print ( head.data)\n",
        "print (tail.data)\n",
        "\n",
        "\n",
        "print (\"Ejercicio 2\")\n",
        "head = NodoDoble(10, NodoDoble(20,NodoDoble(30,NodoDoble(40))))\n",
        "head.next.prev = head\n",
        "\n",
        "print(\"El primero: \", head.data)\n",
        "print(\"El primero \", tail.data)\n",
        "print(\"El segundi:\", head.data)\n",
        "print(\"El segundo: \", tail.data)\n",
        "\n",
        "\n",
        "print(\"EJercicio 3\")\n",
        "tail = head.next.next.next\n",
        "head.next.next.prev = head.next\n",
        "tail.prev = head.next.next\n",
        "\n",
        "print(\"El primero: \", head.data)\n",
        "print(\"El primero \", tail.prev.prev.prev.data)\n",
        "\n",
        "print(\"El segundi:\", tail.data)\n",
        "print(\"El segundo: \", head.next.next.next.data)\n",
        "\n",
        "\n",
        "#transversal\n",
        "curr_node = head\n",
        "while curr_node != None:\n",
        "  print(f\"|{curr_node.data}|-->\", end=\"\")\n",
        "  curr_node = curr_node.next\n",
        "print(\"\")\n",
        "\n",
        "\n",
        "#De reversa\n",
        "curr_node = tail\n",
        "while curr_node != None:\n",
        "  print(f\"|{curr_node.data}|-->\",end=\"\")\n",
        "  curr_node= curr_node.prev\n",
        "print(\"\")\n",
        "\n",
        "\n",
        "print(\"Agregar el 50 al final sin alterar la estructura ya hecha\")\n",
        "tail.next = NodoDoble( 50, None, tail)\n",
        "tail = tail.next\n",
        "\n",
        "curr_node = head\n",
        "while curr_node != None:\n",
        "  print(f\"|{curr_node.data}|-->\", end=\"\")\n",
        "  curr_node = curr_node.next\n",
        "print(\"\")"
      ],
      "execution_count": null,
      "outputs": [
        {
          "output_type": "stream",
          "name": "stdout",
          "text": [
            "10\n",
            "10\n",
            "Ejercicio 2\n",
            "El primero:  10\n",
            "El primero  10\n",
            "El segundi: 10\n",
            "El segundo:  10\n",
            "EJercicio 3\n",
            "El primero:  10\n",
            "El primero  10\n",
            "El segundi: 40\n",
            "El segundo:  40\n",
            "|10|-->|20|-->|30|-->|40|-->\n",
            "|40|-->|30|-->|20|-->|10|-->\n",
            "Agregar el 50 al final sin alterar la estructura ya hecha\n",
            "|10|-->|20|-->|30|-->|40|-->|50|-->\n"
          ]
        }
      ]
    },
    {
      "cell_type": "code",
      "metadata": {
        "id": "ecAgPcp582VA"
      },
      "source": [
        "class DoubleLinkedList:\n",
        "        def __init__(self):\n",
        "            self.head = None\n",
        "            self.tail = None\n",
        "            self.size = 0\n",
        "\n",
        "        def get_size(self):\n",
        "            return self.size\n",
        "\n",
        "        def is_empty(self): \n",
        "            return self.size == 0\n",
        "\n",
        "        def append(self, value):\n",
        "            if self.is_empty():\n",
        "                self.head = NodoDoble(value)\n",
        "                self.tail = self.head\n",
        "            else:\n",
        "                self.tail.next = NodoDoble(value, None, self.tail)\n",
        "                self.tail = self.tail.next\n",
        "            self.size += 1 \n",
        "\n",
        "        def transversal(self):\n",
        "            curr_node = self.head \n",
        "            while curr_node != None :\n",
        "                print(f\"| {curr_node.data} | -->\", end=\"\")\n",
        "                curr_node = curr_node.next\n",
        "            print(\"\")\n",
        "\n",
        "\n",
        "        def remove_from_head(self, value):\n",
        "            curr_node = self.head \n",
        "            while curr_node.data != value: \n",
        "                curr_node = curr_node.next\n",
        "            if curr_node.data == value:\n",
        "                curr_node.prev.next = curr_node.next\n",
        "                curr_node.next.prev = curr_node.prev\n",
        "                \n",
        "           \n",
        "        def remove_from_tail(self, value):\n",
        "            curr_node = self.tail\n",
        "            while curr_node.data != value:\n",
        "                curr_node = curr_node.prev\n",
        "        \n",
        "            if curr_node.data == value:\n",
        "                curr_node.next.prev = curr_node.prev\n",
        "                curr_node.prev.next = curr_node.next\n",
        "               \n",
        "        def find_from_head(self, value):\n",
        "            curr_node = self.head \n",
        "            contador = 0\n",
        "            while curr_node.data != value:\n",
        "                contador += 1\n",
        "                curr_node = curr_node.next\n",
        "\n",
        "            if curr_node.data == value:\n",
        "                print(f\"El nodo está en la posición: {contador + 1} ingresando por head\")\n",
        "\n",
        "        def find_from_tail(self, value):\n",
        "            curr_node = self.tail\n",
        "            contador = 0\n",
        "            while curr_node.data != value:\n",
        "                contador += 1\n",
        "                curr_node = curr_node.prev\n",
        "        \n",
        "            if curr_node.data == value:\n",
        "                print(f\"Su Nodo está en la posición: {contador + 1} ingresando por tail\")\n",
        "            \n",
        "\n",
        "\n",
        "        def reverse_transversal(self):\n",
        "            curr_node = self.tail\n",
        "            while curr_node != None:\n",
        "                print(f\"| {curr_node.data} | -->\", end=\"\")\n",
        "                curr_node = curr_node.prev\n",
        "            print(\"\")"
      ],
      "execution_count": 1,
      "outputs": []
    },
    {
      "cell_type": "code",
      "metadata": {
        "colab": {
          "base_uri": "https://localhost:8080/"
        },
        "id": "_GUjl7ON_5ch",
        "outputId": "7e5c1ede-55a8-41e1-eb97-f41104751aa2"
      },
      "source": [
        "ldl = DoubleLinkedList()\n",
        "ldl.append(10)\n",
        "ldl.append(20)\n",
        "ldl.append(30)\n",
        "ldl.append(40)\n",
        "\n",
        "\n",
        "ldl.transversal()\n",
        "print(f\"Esta vacia? {ldl.is_empty()}\")\n",
        "\n",
        "ldl.remove_from_tail(30)\n",
        "ldl.transversal()"
      ],
      "execution_count": null,
      "outputs": [
        {
          "output_type": "stream",
          "name": "stdout",
          "text": [
            "|10| -->|20| -->|30| -->|40| -->\n",
            "Esta vacia? False\n",
            "|10| -->|20| -->|30| -->|40| -->\n"
          ]
        }
      ]
    }
  ]
}