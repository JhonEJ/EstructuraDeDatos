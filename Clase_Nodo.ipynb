{
  "nbformat": 4,
  "nbformat_minor": 0,
  "metadata": {
    "colab": {
      "name": "Clase Nodo.ipynb",
      "provenance": [],
      "collapsed_sections": [],
      "authorship_tag": "ABX9TyNDZlIqqhWXNJZEoMRWBofh",
      "include_colab_link": true
    },
    "kernelspec": {
      "name": "python3",
      "display_name": "Python 3"
    },
    "language_info": {
      "name": "python"
    }
  },
  "cells": [
    {
      "cell_type": "markdown",
      "metadata": {
        "id": "view-in-github",
        "colab_type": "text"
      },
      "source": [
        "<a href=\"https://colab.research.google.com/github/JhonEJ/EstructuraDeDatos/blob/main/Clase_Nodo.ipynb\" target=\"_parent\"><img src=\"https://colab.research.google.com/assets/colab-badge.svg\" alt=\"Open In Colab\"/></a>"
      ]
    },
    {
      "cell_type": "code",
      "metadata": {
        "id": "W-nxLJzsWoEm"
      },
      "source": [
        "class LinkedList:\n",
        "        def __init__(self):\n",
        "            self.head = None\n",
        "\n",
        "        def is_empty(self): #true o false\n",
        "            return self.head == None \n",
        "\n",
        "        def get_tail(self):\n",
        "            if self.is_empty():\n",
        "                return None\n",
        "            else:\n",
        "                curr_node = self.head\n",
        "                while curr_node.next != None:\n",
        "                    curr_node = curr_node.next \n",
        "            return curr_node\n",
        "\n",
        "        def append(self, value):\n",
        "            if self.head == None:\n",
        "                self.head = Nodo(value)\n",
        "            else:\n",
        "                curr_node = self.head\n",
        "                while curr_node.next != None:\n",
        "                    curr_node = curr_node.next\n",
        "                curr_node.next = Nodo(value)\n",
        "\n",
        "        def transversal(self):\n",
        "            curr_node = self.head\n",
        "            while curr_node != None:\n",
        "                print(f\" | { curr_node.data } | -->\" , end=\"\")\n",
        "                curr_node = curr_node.next\n",
        "            print(\"\")\n",
        "\n",
        "    \n",
        "        def remove(self, value):\n",
        "            if self.head == None:\n",
        "                print(\"Lista vacía, no se puede remover nada\")\n",
        "            else:\n",
        "                curr_node = self.head \n",
        "                aux = None \n",
        "                while curr_node.data != value: \n",
        "                    aux = curr_node \n",
        "                    curr_node = curr_node.next \n",
        "\n",
        "                if curr_node != None:\n",
        "                    aux.next = curr_node.next\n",
        "                    curr_node = None  \n",
        "\n",
        "        def preppend(self, value):\n",
        "            if self.head == None:\n",
        "                print(\"Está vacio\")\n",
        "            else:\n",
        "                aux = self.head\n",
        "                self.head = Nodo(value, aux)\n",
        "\n",
        "        def pop(self):\n",
        "            curr_node = self.head\n",
        "            while curr_node.next.next != None:\n",
        "                curr_node = curr_node.next\n",
        "            print(curr_node.next.data)\n",
        "            curr_node.next = None \n",
        "\n",
        "        def pop_first(self):\n",
        "            print(self.head.data)\n",
        "            self.head = self.head.next\n"
      ],
      "execution_count": 3,
      "outputs": []
    },
    {
      "cell_type": "code",
      "metadata": {
        "colab": {
          "base_uri": "https://localhost:8080/"
        },
        "id": "jBFATny8gBDe",
        "outputId": "ef08a312-2ef1-402b-b4b9-fb2a66fc53a9"
      },
      "source": [
        "lista = LinkedList()\n",
        "\n",
        "if lista.is_empty:\n",
        "  print(\"La lista esta vacia\")\n",
        "else:\n",
        "  print(\"La lista no esta vacia\")\n",
        "\n",
        "\n",
        "nodo = lista.get_tail()\n",
        "if nodo != None:\n",
        "  print(nodo.data)\n",
        "else: \n",
        "  print(\"La lista esta vacia\")\n",
        "\n",
        "lista.transversal()\n",
        "lista.transversal()\n",
        "lista.preppend(6)\n",
        "lista.remove(10)"
      ],
      "execution_count": 6,
      "outputs": [
        {
          "output_type": "stream",
          "name": "stdout",
          "text": [
            "La lista esta vacia\n",
            "La lista esta vacia\n",
            "\n",
            "\n",
            "Está vacio\n",
            "Lista vacía, no se puede remover nada\n"
          ]
        }
      ]
    }
  ]
}